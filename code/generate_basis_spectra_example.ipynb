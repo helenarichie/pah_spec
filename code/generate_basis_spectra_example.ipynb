{
 "cells": [
  {
   "cell_type": "markdown",
   "metadata": {},
   "source": [
    "This notebook shows an example of how to generate a single photon basis spectrum using the method described in Richie & Hensley (2025)."
   ]
  },
  {
   "cell_type": "code",
   "execution_count": 1,
   "metadata": {},
   "outputs": [],
   "source": [
    "import astropy.units as u\n",
    "import numpy as np\n",
    "import pah_spec  # import the pah_spec module"
   ]
  },
  {
   "cell_type": "markdown",
   "metadata": {},
   "source": [
    "First, initialize the `PahSpec` object."
   ]
  },
  {
   "cell_type": "code",
   "execution_count": 2,
   "metadata": {},
   "outputs": [],
   "source": [
    "ps = pah_spec.PahSpec()"
   ]
  },
  {
   "cell_type": "markdown",
   "metadata": {},
   "source": [
    "First, define the emission wavelength ($\\lambda_{\\rm em}$) array. It must start at at least $0.1~{\\rm \\mu m}$ and extend out to at least $10^4~{\\rm \\mu m}$ for the PAH to cool correctly."
   ]
  },
  {
   "cell_type": "code",
   "execution_count": 3,
   "metadata": {},
   "outputs": [],
   "source": [
    "lower = 0.1\n",
    "mid_1 = 1\n",
    "mid_2 = 20\n",
    "upper = 1e4\n",
    "\n",
    "emission_short = np.logspace(np.log10(lower), np.log10(mid_1), 232)  # R = 100\n",
    "emission_jwst = np.logspace(np.log10(mid_1), np.log10(mid_2), 8090) # R = 2700\n",
    "emission_long = np.logspace(np.log10(mid_2), np.log10(upper), 624)  # R = 100\n",
    "\n",
    "emission_wavelengths = np.concatenate((emission_short[:-1], emission_jwst, emission_long[1:])) * u.um"
   ]
  },
  {
   "cell_type": "markdown",
   "metadata": {},
   "source": [
    "Now, use the `PahSpec.generate_basis_spectra()` method."
   ]
  },
  {
   "cell_type": "code",
   "execution_count": 4,
   "metadata": {},
   "outputs": [
    {
     "name": "stdout",
     "output_type": "stream",
     "text": [
      "Generates basis spectra file for input grain sizes for an ionized or neutral PAHs.\n",
      "\n",
      "Parameters\n",
      "----------\n",
      "grain_sizes : astropy.units.Quantity (float or array_like)\n",
      "    Array of dust grain radii to calculate basis spectra for\n",
      "emission_wavelengths : astropy.units.Quantity (array_like)\n",
      "    Array of emission wavelengths to define basis spectra over\n",
      "output_directory : str, optional\n",
      "    Directory to output basis spectra to, default is ./\n",
      "ion : Bool, optional\n",
      "    PAH ionization to run basis spectra for, default is False\n",
      "lambda_min : astropy.units.Quantity, optional\n",
      "    Lowest lambda_abs wavelength, recommended default is 912 A\n",
      "Lambda_max : astropy.units.Quantity, optional\n",
      "    Highest lambda_abs wavelength, recommended default is 912 um\n",
      "\n",
      "Returns\n",
      "-------\n",
      "None\n",
      "\n",
      "Raises\n",
      "------\n",
      "AttributeError\n",
      "    If the input is not an astropy.units.Quantity object\n",
      "TypeError\n",
      "    If the astropy.units.Quantity object has incorrect units (or optionally is not array-like)\n",
      "\n"
     ]
    }
   ],
   "source": [
    "print(ps.generate_basis_spectra.__doc__)"
   ]
  },
  {
   "cell_type": "markdown",
   "metadata": {},
   "source": [
    "The following command will generate a basis spectrum for a $5~{\\rm \\AA}$ ionized PAH using the PAH energy model and cross sections described in Richie & Hensley (2025). Support for user-defined PAH models will be added soon."
   ]
  },
  {
   "cell_type": "markdown",
   "metadata": {},
   "source": [
    "It will take a while to run. When it finishes, it will generate three files: basis_ion_5.012.pkl, lambda_abs.csv, and lambda_em.csv. These files contain the basis spectra arrays (defined for 474 $\\lambda_{\\rm abs}$ wavelengths), the $\\lambda_{\\rm abs}$ array, and the $\\lambda_{\\rm em}$ array, respectively."
   ]
  },
  {
   "cell_type": "code",
   "execution_count": null,
   "metadata": {},
   "outputs": [],
   "source": [
    "ps.generate_basis_spectra(5.012 * u.AA, emission_wavelengths, ion=True)"
   ]
  }
 ],
 "metadata": {
  "kernelspec": {
   "display_name": "python_env",
   "language": "python",
   "name": "python3"
  },
  "language_info": {
   "codemirror_mode": {
    "name": "ipython",
    "version": 3
   },
   "file_extension": ".py",
   "mimetype": "text/x-python",
   "name": "python",
   "nbconvert_exporter": "python",
   "pygments_lexer": "ipython3",
   "version": "3.13.7"
  }
 },
 "nbformat": 4,
 "nbformat_minor": 2
}
